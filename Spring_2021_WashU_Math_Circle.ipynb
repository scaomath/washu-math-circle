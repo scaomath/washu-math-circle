{
  "nbformat": 4,
  "nbformat_minor": 0,
  "metadata": {
    "colab": {
      "name": "Spring 2021 WashU Math Circle.ipynb",
      "provenance": [],
      "collapsed_sections": [],
      "authorship_tag": "ABX9TyPhHAmZT4GwT9xESxWZomYU",
      "include_colab_link": true
    },
    "kernelspec": {
      "name": "python3",
      "display_name": "Python 3"
    },
    "language_info": {
      "name": "python"
    }
  },
  "cells": [
    {
      "cell_type": "markdown",
      "metadata": {
        "id": "view-in-github",
        "colab_type": "text"
      },
      "source": [
        "<a href=\"https://colab.research.google.com/github/scaomath/washu-math-circle/blob/main/Spring_2021_WashU_Math_Circle.ipynb\" target=\"_parent\"><img src=\"https://colab.research.google.com/assets/colab-badge.svg\" alt=\"Open In Colab\"/></a>"
      ]
    },
    {
      "cell_type": "markdown",
      "metadata": {
        "id": "mfnfgR6AG4eG"
      },
      "source": [
        "![Washu Math](https://sites.wustl.edu/scao/files/2020/10/Screen-Shot-2020-10-25-at-1.03.49-PM.png)\n"
      ]
    },
    {
      "cell_type": "markdown",
      "metadata": {
        "id": "AW0-8ax1G_PM"
      },
      "source": [
        "# How to gamble like a mathematician if we must\n",
        "\n",
        "## Math Circle Spring 2021\n",
        "\n",
        "Welcome to a math circle session like you have never seen before! Today we will learn some probability Python language.\n",
        "\n",
        "![](https://www.python.org/static/community_logos/python-logo-master-v3-TM.png)\n",
        "\n",
        "If have a Google account, please click the \n",
        "[![Open In Colab](https://colab.research.google.com/assets/colab-badge.svg)](https://colab.research.google.com/notebooks/intro.ipynb#) badge on top of github link.\n"
      ]
    },
    {
      "cell_type": "markdown",
      "metadata": {
        "id": "gTeQgLtvHw9w"
      },
      "source": [
        "# Conclusion: Do not gamble\n",
        "\n",
        "Simply because math."
      ]
    },
    {
      "cell_type": "markdown",
      "metadata": {
        "id": "AMXFGoRDIBBY"
      },
      "source": [
        "# Light-hearted Python introduction"
      ]
    },
    {
      "cell_type": "code",
      "metadata": {
        "id": "Kh7rxR-IHwHA"
      },
      "source": [
        "# this is a code cell"
      ],
      "execution_count": null,
      "outputs": []
    },
    {
      "cell_type": "code",
      "metadata": {
        "id": "jIHemeDIJbng"
      },
      "source": [
        "# import some packages for our circle!\n",
        "import numpy as np\n",
        "import random\n",
        "import matplotlib.pyplot as plt"
      ],
      "execution_count": 1,
      "outputs": []
    },
    {
      "cell_type": "markdown",
      "metadata": {
        "id": "PU3UmU72JV8W"
      },
      "source": [
        "# Probability crash course"
      ]
    },
    {
      "cell_type": "markdown",
      "metadata": {
        "id": "pCAEkqc7INS0"
      },
      "source": [
        "\n",
        "\n",
        "1. If $A$ is an event, then the probability $P(A)$ of the event occurring is a \n",
        "number that is between 0 and 1. If $P(A) = 0$, the event cannot occur (almost surely); if $P(A) = 1$, then the event is happening (almost surely, technical jargon invented by nerdy mathematician).\n",
        "\n",
        "2. The total of the probabilities of all possible events (given they are disjoint) is $1$. (Disjoint means mutually exclusive, \"cannot happen together\".) \n",
        "\n",
        "3. If $A$ and $B$ are disjoint events, then \n",
        "$$P(A \\text{ or } B \\text{ happens}) = P(A)+P(B)$$. \n",
        "\n",
        "4. $P(\\text{not } A) = 1-P(A)$.\n",
        "\n",
        "5. Let $P(A|B)$ denote the probability of $A$ happens, given that $B$ already happens, \n",
        "$$P(A|B) = \\dfrac{P(A \\text{ and } B)}{P(B)}.$$\n",
        "\n",
        "6. For $P(A \\text{ and } B)$, the conditional probability formula above gives us a formula that is always true: \n",
        "$$P(A \\text{ and } B) = P(A|B)P(B).$$\n",
        "In particular, as long as $A$ and $B$ are independent events ($B$'s happening not \n",
        "affecting the probability of $A$ happening), then we have a simpler\n",
        "formula: $$P(A \\text{ and } B) = P(A)P(B).$$\n",
        "Example: flipping a coin twice.\n",
        "\n",
        "7. Random variable $X$ is a function (''machine'') whose input is an event \n",
        "$\\omega$, and outputs a number $a$ associated with that event, $P(X= a)$ is the \n",
        "probability of $\\{X=a\\}$.\n",
        "\n",
        "8. Expected value or expectation of $X$, denoted\n",
        "by $E(X)$, to be the ''average'' output of $X$. Imagine that $X$ is a machine that \n",
        "spits out values and you just let it run for many values, and then take the average. \n",
        "That should approximate $E(X)$. The theoretical value for $E(X)$ is just the sum of \n",
        "the products of each value multiplied by the probability that it attains that value:\n",
        "$E(X) = \\sum_{a\\in A} a\\cdot P(X=a)  $, where $A$ is set of numbers \n",
        "of all possible values of $X$.\n"
      ]
    },
    {
      "cell_type": "code",
      "metadata": {
        "colab": {
          "base_uri": "https://localhost:8080/"
        },
        "id": "AA2j3tptJXaL",
        "outputId": "04dae6fa-3de8-4cd1-e23f-31e1e3308066"
      },
      "source": [
        "# randomly draw a number between 0 and 1"
      ],
      "execution_count": 16,
      "outputs": [
        {
          "output_type": "execute_result",
          "data": {
            "text/plain": [
              "0.049273857553705724"
            ]
          },
          "metadata": {
            "tags": []
          },
          "execution_count": 16
        }
      ]
    },
    {
      "cell_type": "code",
      "metadata": {
        "id": "ONAq-rOZL9qI"
      },
      "source": [
        ""
      ],
      "execution_count": null,
      "outputs": []
    },
    {
      "cell_type": "markdown",
      "metadata": {
        "id": "ogurShEtKSVY"
      },
      "source": [
        "# Problem 1\n",
        "When two fair six-sided dice are rolled, there are $36$ different outcomes, because $36 = 6\\times6$. \n",
        "\n",
        "| Die 1/2\t| 1 \t| 2 \t| 3 \t| 4  \t| 5  \t| 6  \t|\n",
        "|-------\t|---\t|---\t|---\t|----\t|----\t|----\t|\n",
        "| 1     \t| 2 \t| 3 \t| 4 \t| 5  \t| 6  \t| 7  \t|\n",
        "| 2     \t| 3 \t| 4 \t| 5 \t| 6  \t| 7  \t| 8  \t|\n",
        "| 3     \t| 4 \t| 5 \t| 6 \t| 7  \t| 8  \t| 9  \t|\n",
        "| 4     \t| 5 \t| 6 \t| 7 \t| 8  \t| 9  \t| 10 \t|\n",
        "| 5     \t| 6 \t| 7 \t| 8 \t| 9  \t| 10 \t| 11 \t|\n",
        "| 6     \t| 7 \t| 8 \t| 9 \t| 10 \t| 11 \t| 12 \t|\n",
        "\n",
        "\n",
        "Each outcome is equally likely. \n",
        "What is the most likely sum, and \n",
        "what is its probability?\n",
        "\n",
        "\n",
        " \n",
        "## Problem 1.1 \n",
        "Two fair dice are rolled. Determine in each subquestion, whether the two events given are independent or not.\n",
        "\n",
        "- $E_1$: first dice is 1. $F_1$: sum of two dice is 7. \n",
        "\n",
        "- $E_2$: first dice is 2. $F_2$: sum of two dice is 8."
      ]
    },
    {
      "cell_type": "code",
      "metadata": {
        "id": "63DNfV0xKhgu"
      },
      "source": [
        "# choice"
      ],
      "execution_count": 29,
      "outputs": []
    },
    {
      "cell_type": "markdown",
      "metadata": {
        "id": "UBoBrzxFKxne"
      },
      "source": [
        "## Problem 1.2\n",
        "\n",
        "What is on average the number of times that we have to roll two fair dice to get a sum of 7 (call it a success)?"
      ]
    },
    {
      "cell_type": "code",
      "metadata": {
        "id": "FbmLt-l0KkwX"
      },
      "source": [
        "# let us roll 10000 times and give it a try"
      ],
      "execution_count": null,
      "outputs": []
    },
    {
      "cell_type": "markdown",
      "metadata": {
        "id": "VOzK_1wwMxU5"
      },
      "source": [
        "# Problem 2: Game of Craps\n",
        "\n",
        "\n",
        "A game played with two dice. If the total is 7 or 11 (a \"natural\"), the thrower wins and retains the dice for another throw. If the total is 2, 3, or 12 (\"craps\"), the thrower loses but retains the dice. If the total is any other number (called the thrower's \"point\"), the thrower must continue throwing and roll the \"point\" value again before throwing a 7. If he succeeds, he wins and retains the dice, but if a 7 appears first, the player loses and passes the dice.\n",
        "\n",
        "Reference: https://mathworld.wolfram.com/Craps.html"
      ]
    },
    {
      "cell_type": "markdown",
      "metadata": {
        "id": "LaUu9TXjNzpW"
      },
      "source": [
        "The probability of winning directly is, as we calculated, $8/36$, and the probability of losing directly is $(1+2+1)/36=4/36$.\n",
        "\n",
        "For the remaining cases, we need to sum over all remaining rolls. Let $p$ be the probability of rolling our initial roll, and $q=6/36=1/6$ the probability of rolling a $7$. Then the probability of rolling your initial roll before rolling a $7$ is \n",
        "$$p/(p+q),$$\n",
        "(Why?) and the probability of rolling a $7$ before rolling your initial roll is \n",
        "$$q/(p+q).$$\n",
        "Thus, taking into account the probability of initially rolling that roll, each roll that doesn't win or lose directly yields a contribution $p^2/(p+q)$ to your winning probability.\n",
        "\n",
        "For $p=5/36$, that's\n",
        "$$\n",
        "\\frac{\\left(\\frac5{36}\\right)^2}{\\frac{5+6}{36}}=\\frac{25}{11\\cdot36}\\;,\n",
        "$$\n",
        "\n",
        "and likewise $16/(10\\cdot36)$ and $9/(9\\cdot36)$ for $p=4/36$ and $p=3/36$, respectively. \n",
        "\n",
        "Each of those cases occurs twice (once above $7$ and once below), so your overall winning probability is\n",
        "\n",
        "$$\n",
        "\\frac8{36}+\\frac2{36}\\left(\\frac{25}{11}+\\frac{16}{10}+\\frac99\\right)=\\frac{244}{495} = \\frac12-\\frac7{990}\\approx\\frac12-0.007\\;.\n",
        "$$"
      ]
    },
    {
      "cell_type": "code",
      "metadata": {
        "id": "zxKXQXSFMxJC"
      },
      "source": [
        "# long term simulation"
      ],
      "execution_count": 31,
      "outputs": []
    },
    {
      "cell_type": "markdown",
      "metadata": {
        "id": "kT6EhsSqM51t"
      },
      "source": [
        "# Problem 3: PowerBall \n",
        "\n",
        "PB numbers are drawn from two sets of numbers. Five numbers are drawn \n",
        "from one set of $69$ numbered white balls and one Powerball number is drawn from a \n",
        "second set of $26$ numbered red balls. If a ticket is randomly bought, what is the \n",
        "chance that it matches all five numbers plus the Powerball?"
      ]
    },
    {
      "cell_type": "code",
      "metadata": {
        "id": "nbeusj2BNWDC"
      },
      "source": [
        "# let us run some simulation"
      ],
      "execution_count": 30,
      "outputs": []
    },
    {
      "cell_type": "code",
      "metadata": {
        "id": "eMwqxX0JNXVq"
      },
      "source": [
        ""
      ],
      "execution_count": null,
      "outputs": []
    }
  ]
}