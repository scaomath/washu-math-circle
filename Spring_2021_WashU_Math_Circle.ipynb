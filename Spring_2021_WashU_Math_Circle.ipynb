{
  "nbformat": 4,
  "nbformat_minor": 0,
  "metadata": {
    "colab": {
      "name": "Spring 2021 WashU Math Circle.ipynb",
      "provenance": [],
      "collapsed_sections": [],
      "authorship_tag": "ABX9TyPIKB+jcs3402zW5Tavizud",
      "include_colab_link": true
    },
    "kernelspec": {
      "name": "python3",
      "display_name": "Python 3"
    },
    "language_info": {
      "name": "python"
    },
    "widgets": {
      "application/vnd.jupyter.widget-state+json": {
        "0c9e34450df1406a94b4d1b56dc922a3": {
          "model_module": "@jupyter-widgets/controls",
          "model_name": "HBoxModel",
          "state": {
            "_view_name": "HBoxView",
            "_dom_classes": [],
            "_model_name": "HBoxModel",
            "_view_module": "@jupyter-widgets/controls",
            "_model_module_version": "1.5.0",
            "_view_count": null,
            "_view_module_version": "1.5.0",
            "box_style": "",
            "layout": "IPY_MODEL_0b0d2058c1de4f548db0c08bd1b27d14",
            "_model_module": "@jupyter-widgets/controls",
            "children": [
              "IPY_MODEL_c938e0eb0928432186212182dae4b0ef",
              "IPY_MODEL_d5ceab97bf4749d89c25d5022a1968d4"
            ]
          }
        },
        "0b0d2058c1de4f548db0c08bd1b27d14": {
          "model_module": "@jupyter-widgets/base",
          "model_name": "LayoutModel",
          "state": {
            "_view_name": "LayoutView",
            "grid_template_rows": null,
            "right": null,
            "justify_content": null,
            "_view_module": "@jupyter-widgets/base",
            "overflow": null,
            "_model_module_version": "1.2.0",
            "_view_count": null,
            "flex_flow": null,
            "width": null,
            "min_width": null,
            "border": null,
            "align_items": null,
            "bottom": null,
            "_model_module": "@jupyter-widgets/base",
            "top": null,
            "grid_column": null,
            "overflow_y": null,
            "overflow_x": null,
            "grid_auto_flow": null,
            "grid_area": null,
            "grid_template_columns": null,
            "flex": null,
            "_model_name": "LayoutModel",
            "justify_items": null,
            "grid_row": null,
            "max_height": null,
            "align_content": null,
            "visibility": null,
            "align_self": null,
            "height": null,
            "min_height": null,
            "padding": null,
            "grid_auto_rows": null,
            "grid_gap": null,
            "max_width": null,
            "order": null,
            "_view_module_version": "1.2.0",
            "grid_template_areas": null,
            "object_position": null,
            "object_fit": null,
            "grid_auto_columns": null,
            "margin": null,
            "display": null,
            "left": null
          }
        },
        "c938e0eb0928432186212182dae4b0ef": {
          "model_module": "@jupyter-widgets/controls",
          "model_name": "FloatProgressModel",
          "state": {
            "_view_name": "ProgressView",
            "style": "IPY_MODEL_f238f927d6644a69a6a7feeb8de8b744",
            "_dom_classes": [],
            "description": "100%",
            "_model_name": "FloatProgressModel",
            "bar_style": "success",
            "max": 1000000,
            "_view_module": "@jupyter-widgets/controls",
            "_model_module_version": "1.5.0",
            "value": 1000000,
            "_view_count": null,
            "_view_module_version": "1.5.0",
            "orientation": "horizontal",
            "min": 0,
            "description_tooltip": null,
            "_model_module": "@jupyter-widgets/controls",
            "layout": "IPY_MODEL_e68d68bbeffe454eb8be6ebe69f2e441"
          }
        },
        "d5ceab97bf4749d89c25d5022a1968d4": {
          "model_module": "@jupyter-widgets/controls",
          "model_name": "HTMLModel",
          "state": {
            "_view_name": "HTMLView",
            "style": "IPY_MODEL_bfbca7cd5e014f6caef99346c7166b0e",
            "_dom_classes": [],
            "description": "",
            "_model_name": "HTMLModel",
            "placeholder": "​",
            "_view_module": "@jupyter-widgets/controls",
            "_model_module_version": "1.5.0",
            "value": " 1000000/1000000 [02:13&lt;00:00, 7484.17it/s]",
            "_view_count": null,
            "_view_module_version": "1.5.0",
            "description_tooltip": null,
            "_model_module": "@jupyter-widgets/controls",
            "layout": "IPY_MODEL_a8c96a31c3c948ddad4f650ff16ef906"
          }
        },
        "f238f927d6644a69a6a7feeb8de8b744": {
          "model_module": "@jupyter-widgets/controls",
          "model_name": "ProgressStyleModel",
          "state": {
            "_view_name": "StyleView",
            "_model_name": "ProgressStyleModel",
            "description_width": "initial",
            "_view_module": "@jupyter-widgets/base",
            "_model_module_version": "1.5.0",
            "_view_count": null,
            "_view_module_version": "1.2.0",
            "bar_color": null,
            "_model_module": "@jupyter-widgets/controls"
          }
        },
        "e68d68bbeffe454eb8be6ebe69f2e441": {
          "model_module": "@jupyter-widgets/base",
          "model_name": "LayoutModel",
          "state": {
            "_view_name": "LayoutView",
            "grid_template_rows": null,
            "right": null,
            "justify_content": null,
            "_view_module": "@jupyter-widgets/base",
            "overflow": null,
            "_model_module_version": "1.2.0",
            "_view_count": null,
            "flex_flow": null,
            "width": null,
            "min_width": null,
            "border": null,
            "align_items": null,
            "bottom": null,
            "_model_module": "@jupyter-widgets/base",
            "top": null,
            "grid_column": null,
            "overflow_y": null,
            "overflow_x": null,
            "grid_auto_flow": null,
            "grid_area": null,
            "grid_template_columns": null,
            "flex": null,
            "_model_name": "LayoutModel",
            "justify_items": null,
            "grid_row": null,
            "max_height": null,
            "align_content": null,
            "visibility": null,
            "align_self": null,
            "height": null,
            "min_height": null,
            "padding": null,
            "grid_auto_rows": null,
            "grid_gap": null,
            "max_width": null,
            "order": null,
            "_view_module_version": "1.2.0",
            "grid_template_areas": null,
            "object_position": null,
            "object_fit": null,
            "grid_auto_columns": null,
            "margin": null,
            "display": null,
            "left": null
          }
        },
        "bfbca7cd5e014f6caef99346c7166b0e": {
          "model_module": "@jupyter-widgets/controls",
          "model_name": "DescriptionStyleModel",
          "state": {
            "_view_name": "StyleView",
            "_model_name": "DescriptionStyleModel",
            "description_width": "",
            "_view_module": "@jupyter-widgets/base",
            "_model_module_version": "1.5.0",
            "_view_count": null,
            "_view_module_version": "1.2.0",
            "_model_module": "@jupyter-widgets/controls"
          }
        },
        "a8c96a31c3c948ddad4f650ff16ef906": {
          "model_module": "@jupyter-widgets/base",
          "model_name": "LayoutModel",
          "state": {
            "_view_name": "LayoutView",
            "grid_template_rows": null,
            "right": null,
            "justify_content": null,
            "_view_module": "@jupyter-widgets/base",
            "overflow": null,
            "_model_module_version": "1.2.0",
            "_view_count": null,
            "flex_flow": null,
            "width": null,
            "min_width": null,
            "border": null,
            "align_items": null,
            "bottom": null,
            "_model_module": "@jupyter-widgets/base",
            "top": null,
            "grid_column": null,
            "overflow_y": null,
            "overflow_x": null,
            "grid_auto_flow": null,
            "grid_area": null,
            "grid_template_columns": null,
            "flex": null,
            "_model_name": "LayoutModel",
            "justify_items": null,
            "grid_row": null,
            "max_height": null,
            "align_content": null,
            "visibility": null,
            "align_self": null,
            "height": null,
            "min_height": null,
            "padding": null,
            "grid_auto_rows": null,
            "grid_gap": null,
            "max_width": null,
            "order": null,
            "_view_module_version": "1.2.0",
            "grid_template_areas": null,
            "object_position": null,
            "object_fit": null,
            "grid_auto_columns": null,
            "margin": null,
            "display": null,
            "left": null
          }
        }
      }
    }
  },
  "cells": [
    {
      "cell_type": "markdown",
      "metadata": {
        "id": "view-in-github",
        "colab_type": "text"
      },
      "source": [
        "<a href=\"https://colab.research.google.com/github/scaomath/washu-math-circle/blob/main/Spring_2021_WashU_Math_Circle.ipynb\" target=\"_parent\"><img src=\"https://colab.research.google.com/assets/colab-badge.svg\" alt=\"Open In Colab\"/></a>"
      ]
    },
    {
      "cell_type": "markdown",
      "metadata": {
        "id": "mfnfgR6AG4eG"
      },
      "source": [
        "![Washu Math](https://sites.wustl.edu/scao/files/2020/10/Screen-Shot-2020-10-25-at-1.03.49-PM.png)\n"
      ]
    },
    {
      "cell_type": "markdown",
      "metadata": {
        "id": "AW0-8ax1G_PM"
      },
      "source": [
        "# How (NOT) to gamble like a mathematician if we must\n",
        "\n",
        "## Math Circle Spring 2021\n",
        "\n",
        "Welcome to a math circle session like you have never seen before! Today we will learn some probability Python language.\n",
        "\n",
        "![](https://www.python.org/static/community_logos/python-logo-master-v3-TM.png)\n",
        "\n",
        "If have a Google account, please click the \n",
        "[![Open In Colab](https://colab.research.google.com/assets/colab-badge.svg)](https://colab.research.google.com/notebooks/intro.ipynb#) badge on top of github link.\n"
      ]
    },
    {
      "cell_type": "markdown",
      "metadata": {
        "id": "gTeQgLtvHw9w"
      },
      "source": [
        "# Conclusion: Do not gamble\n",
        "\n",
        "Simply because math."
      ]
    },
    {
      "cell_type": "markdown",
      "metadata": {
        "id": "AMXFGoRDIBBY"
      },
      "source": [
        "# Light-hearted Python introduction"
      ]
    },
    {
      "cell_type": "code",
      "metadata": {
        "colab": {
          "base_uri": "https://localhost:8080/"
        },
        "id": "Kh7rxR-IHwHA",
        "outputId": "460dcb7e-64c4-40af-dbf6-a85e8aedc2cd"
      },
      "source": [
        "# this is a code cell\n",
        "20+12382938298392189"
      ],
      "execution_count": 32,
      "outputs": [
        {
          "output_type": "execute_result",
          "data": {
            "text/plain": [
              "12382938298392209"
            ]
          },
          "metadata": {
            "tags": []
          },
          "execution_count": 32
        }
      ]
    },
    {
      "cell_type": "code",
      "metadata": {
        "colab": {
          "base_uri": "https://localhost:8080/"
        },
        "id": "nt1G_KfBctix",
        "outputId": "d6dd513b-59ee-48fb-fc0c-fc28c283f897"
      },
      "source": [
        "3123213*1392812329"
      ],
      "execution_count": 33,
      "outputs": [
        {
          "output_type": "execute_result",
          "data": {
            "text/plain": [
              "4350049572493077"
            ]
          },
          "metadata": {
            "tags": []
          },
          "execution_count": 33
        }
      ]
    },
    {
      "cell_type": "code",
      "metadata": {
        "colab": {
          "base_uri": "https://localhost:8080/"
        },
        "id": "yE-zvRotc6Mp",
        "outputId": "ca05ba41-5c17-44b3-a763-3a2b89a2a8ff"
      },
      "source": [
        "4238942384/785483274"
      ],
      "execution_count": 34,
      "outputs": [
        {
          "output_type": "execute_result",
          "data": {
            "text/plain": [
              "5.396604261747781"
            ]
          },
          "metadata": {
            "tags": []
          },
          "execution_count": 34
        }
      ]
    },
    {
      "cell_type": "markdown",
      "metadata": {
        "id": "mTp1Y1BpdGNR"
      },
      "source": [
        "Suppose we want to do $2^3$"
      ]
    },
    {
      "cell_type": "code",
      "metadata": {
        "colab": {
          "base_uri": "https://localhost:8080/"
        },
        "id": "f2CfiMuDdAVB",
        "outputId": "3b51acda-e7a5-487d-d868-6097e484d46a"
      },
      "source": [
        "2**3"
      ],
      "execution_count": 36,
      "outputs": [
        {
          "output_type": "execute_result",
          "data": {
            "text/plain": [
              "8"
            ]
          },
          "metadata": {
            "tags": []
          },
          "execution_count": 36
        }
      ]
    },
    {
      "cell_type": "code",
      "metadata": {
        "id": "jIHemeDIJbng"
      },
      "source": [
        "# import some packages for our circle!\n",
        "import numpy as np\n",
        "import random\n",
        "import matplotlib.pyplot as plt"
      ],
      "execution_count": 37,
      "outputs": []
    },
    {
      "cell_type": "code",
      "metadata": {
        "colab": {
          "base_uri": "https://localhost:8080/"
        },
        "id": "zHCayKQ-djSK",
        "outputId": "fb721ccf-041e-4210-b495-2f05ab640d17"
      },
      "source": [
        "# square root\n",
        "np.sqrt(2)"
      ],
      "execution_count": 38,
      "outputs": [
        {
          "output_type": "execute_result",
          "data": {
            "text/plain": [
              "1.4142135623730951"
            ]
          },
          "metadata": {
            "tags": []
          },
          "execution_count": 38
        }
      ]
    },
    {
      "cell_type": "code",
      "metadata": {
        "colab": {
          "base_uri": "https://localhost:8080/"
        },
        "id": "dWKWF9qndwHW",
        "outputId": "b46658e2-f97b-416c-f700-458c160512d7"
      },
      "source": [
        "# print\n",
        "x = 1.41423231231243543534\n",
        "print(x)"
      ],
      "execution_count": 39,
      "outputs": [
        {
          "output_type": "stream",
          "text": [
            "1.4142323123124354\n"
          ],
          "name": "stdout"
        }
      ]
    },
    {
      "cell_type": "code",
      "metadata": {
        "colab": {
          "base_uri": "https://localhost:8080/"
        },
        "id": "G4HJ-gyoeHUN",
        "outputId": "76efcbb9-7e49-43e9-fb6a-613cac4f133c"
      },
      "source": [
        "# string\n",
        "y = \"Today is Mar 28\"\n",
        "print(y)"
      ],
      "execution_count": 40,
      "outputs": [
        {
          "output_type": "stream",
          "text": [
            "Today is Mar 28\n"
          ],
          "name": "stdout"
        }
      ]
    },
    {
      "cell_type": "code",
      "metadata": {
        "colab": {
          "base_uri": "https://localhost:8080/"
        },
        "id": "RQJJCcXKeV41",
        "outputId": "b312eb31-037d-40fd-e877-bc1a7c13eae1"
      },
      "source": [
        "# for loop: iteration\n",
        "for i in [1, 2331, 199, 42]:\n",
        "  print(\"Our number in the list is\", i)"
      ],
      "execution_count": 41,
      "outputs": [
        {
          "output_type": "stream",
          "text": [
            "Our number in the list is 1\n",
            "Our number in the list is 2331\n",
            "Our number in the list is 199\n",
            "Our number in the list is 42\n"
          ],
          "name": "stdout"
        }
      ]
    },
    {
      "cell_type": "code",
      "metadata": {
        "colab": {
          "base_uri": "https://localhost:8080/"
        },
        "id": "csNj057We2MZ",
        "outputId": "d83d4a5c-681f-4440-e89a-ddbe750c1407"
      },
      "source": [
        "# compute the sum from 1 to 100: 5050\n",
        "\n",
        "for number in range(10):\n",
        "  # range(10) has 10 number: 0 to 9\n",
        "  # 10 is not included, the number starts from 0\n",
        "  print(number)"
      ],
      "execution_count": 42,
      "outputs": [
        {
          "output_type": "stream",
          "text": [
            "0\n",
            "1\n",
            "2\n",
            "3\n",
            "4\n",
            "5\n",
            "6\n",
            "7\n",
            "8\n",
            "9\n"
          ],
          "name": "stdout"
        }
      ]
    },
    {
      "cell_type": "code",
      "metadata": {
        "colab": {
          "base_uri": "https://localhost:8080/"
        },
        "id": "Rc4YZTyDfX-I",
        "outputId": "89ac965b-537f-4836-cf7c-352943ec6bd5"
      },
      "source": [
        "total = 0\n",
        "for number in range(100):\n",
        "  total = total + (number+1) # range starts from 0\n",
        "print(total)"
      ],
      "execution_count": 44,
      "outputs": [
        {
          "output_type": "stream",
          "text": [
            "5050\n"
          ],
          "name": "stdout"
        }
      ]
    },
    {
      "cell_type": "code",
      "metadata": {
        "id": "jyNNt-YKf4Qf"
      },
      "source": [
        "# how fast a computer is computing the sum\n",
        "from tqdm.auto import tqdm"
      ],
      "execution_count": 45,
      "outputs": []
    },
    {
      "cell_type": "code",
      "metadata": {
        "colab": {
          "base_uri": "https://localhost:8080/",
          "height": 66,
          "referenced_widgets": [
            "0c9e34450df1406a94b4d1b56dc922a3",
            "0b0d2058c1de4f548db0c08bd1b27d14",
            "c938e0eb0928432186212182dae4b0ef",
            "d5ceab97bf4749d89c25d5022a1968d4",
            "f238f927d6644a69a6a7feeb8de8b744",
            "e68d68bbeffe454eb8be6ebe69f2e441",
            "bfbca7cd5e014f6caef99346c7166b0e",
            "a8c96a31c3c948ddad4f650ff16ef906"
          ]
        },
        "id": "fuQR8BMkgAWR",
        "outputId": "82daf0f2-9f68-47bc-aeaf-14ccd0dce0e5"
      },
      "source": [
        "total = 0\n",
        "for number in tqdm(range(1_000_000)):\n",
        "  total = total + number"
      ],
      "execution_count": 48,
      "outputs": [
        {
          "output_type": "display_data",
          "data": {
            "application/vnd.jupyter.widget-view+json": {
              "model_id": "0c9e34450df1406a94b4d1b56dc922a3",
              "version_minor": 0,
              "version_major": 2
            },
            "text/plain": [
              "HBox(children=(FloatProgress(value=0.0, max=1000000.0), HTML(value='')))"
            ]
          },
          "metadata": {
            "tags": []
          }
        },
        {
          "output_type": "stream",
          "text": [
            "\n"
          ],
          "name": "stdout"
        }
      ]
    },
    {
      "cell_type": "markdown",
      "metadata": {
        "id": "PU3UmU72JV8W"
      },
      "source": [
        "# Probability crash course"
      ]
    },
    {
      "cell_type": "markdown",
      "metadata": {
        "id": "pCAEkqc7INS0"
      },
      "source": [
        "\n",
        "\n",
        "1. If $A$ is an event, then the probability $P(A)$ of the event occurring is a \n",
        "number that is between 0 and 1. If $P(A) = 0$, the event cannot occur (almost surely); if $P(A) = 1$, then the event is happening (almost surely, technical jargon invented by nerdy mathematician).\n",
        "\n",
        "2. The total of the probabilities of all possible events (given they are disjoint) is $1$. (Disjoint means mutually exclusive, \"cannot happen together\".) \n",
        "\n",
        "3. If $A$ and $B$ are disjoint events, then \n",
        "$$P(A \\text{ or } B \\text{ happens}) = P(A)+P(B).$$ \n",
        "\n",
        "4. $P(\\text{not } A) = 1-P(A)$.\n",
        "\n",
        "5. Let $P(A|B)$ denote the probability of $A$ happens, given that $B$ already happens, \n",
        "$$P(A|B) = \\dfrac{P(A \\text{ and } B)}{P(B)}.$$\n",
        "\n",
        "6. For $P(A \\text{ and } B)$, the conditional probability formula above gives us a formula that is always true: \n",
        "$$P(A \\text{ and } B) = P(A|B)P(B).$$\n",
        "In particular, as long as $A$ and $B$ are independent events ($B$'s happening not \n",
        "affecting the probability of $A$ happening), then we have a simpler\n",
        "formula: $$P(A \\text{ and } B) = P(A)P(B).$$\n",
        "Example: flipping a coin twice.\n",
        "\n",
        "7. Random variable $X$ is a function (''machine'') whose input is an event \n",
        "$\\omega$, and outputs a number $a$ associated with that event, $P(X= a)$ is the \n",
        "probability of $\\{X=a\\}$.\n",
        "\n",
        "8. Expected value or expectation of $X$, denoted\n",
        "by $E(X)$, to be the ''average'' output of $X$. Imagine that $X$ is a machine that \n",
        "spits out values and you just let it run for many values, and then take the average. \n",
        "That should approximate $E(X)$. The theoretical value for $E(X)$ is just the sum of \n",
        "the products of each value multiplied by the probability that it attains that value:\n",
        "$$E(X) = \\sum_{a\\in A} a\\cdot P(X=a),  $$ where $A$ is set of numbers \n",
        "of all possible values of $X$.\n"
      ]
    },
    {
      "cell_type": "code",
      "metadata": {
        "colab": {
          "base_uri": "https://localhost:8080/"
        },
        "id": "JpasPA9bg37T",
        "outputId": "209cdde2-9877-46a5-a525-ad762bae4690"
      },
      "source": [
        "# function choice from random module\n",
        "for _ in range(10): # flip a coin 10 times\n",
        "  result = random.choice([0,1]) \n",
        "  # 0 means tail, 1 means head\n",
        "  print(result)"
      ],
      "execution_count": 84,
      "outputs": [
        {
          "output_type": "stream",
          "text": [
            "0\n",
            "0\n",
            "1\n",
            "0\n",
            "1\n",
            "0\n",
            "1\n",
            "0\n",
            "0\n",
            "1\n"
          ],
          "name": "stdout"
        }
      ]
    },
    {
      "cell_type": "code",
      "metadata": {
        "colab": {
          "base_uri": "https://localhost:8080/"
        },
        "id": "By19ejTUhndf",
        "outputId": "a7d3b8da-5d52-4e3e-e4c3-47da9dd55bbb"
      },
      "source": [
        "result = 0\n",
        "for _ in range(1_000_000):# 1m flip\n",
        "  flip = random.choice([0,1]) \n",
        "  result = result + flip\n",
        "print(result/1_000_000)"
      ],
      "execution_count": 81,
      "outputs": [
        {
          "output_type": "stream",
          "text": [
            "0.499916\n"
          ],
          "name": "stdout"
        }
      ]
    },
    {
      "cell_type": "code",
      "metadata": {
        "colab": {
          "base_uri": "https://localhost:8080/"
        },
        "id": "AA2j3tptJXaL",
        "outputId": "a236ebf2-7ab7-453a-8ad9-335f891fe76e"
      },
      "source": [
        "# randomly draw a number between 0 and 1\n",
        "random.random()"
      ],
      "execution_count": 95,
      "outputs": [
        {
          "output_type": "execute_result",
          "data": {
            "text/plain": [
              "0.20145422802368762"
            ]
          },
          "metadata": {
            "tags": []
          },
          "execution_count": 95
        }
      ]
    },
    {
      "cell_type": "code",
      "metadata": {
        "colab": {
          "base_uri": "https://localhost:8080/"
        },
        "id": "EstVzwahg9mS",
        "outputId": "65644dd9-1e05-421c-ee80-9bade3f3796f"
      },
      "source": [
        "result = 0\n",
        "for _ in range(1_000_000):\n",
        "  result = result + random.random()\n",
        "print(result/1_000_000)"
      ],
      "execution_count": 97,
      "outputs": [
        {
          "output_type": "stream",
          "text": [
            "0.5000975324194734\n"
          ],
          "name": "stdout"
        }
      ]
    },
    {
      "cell_type": "code",
      "metadata": {
        "id": "ONAq-rOZL9qI"
      },
      "source": [
        ""
      ],
      "execution_count": null,
      "outputs": []
    },
    {
      "cell_type": "markdown",
      "metadata": {
        "id": "ogurShEtKSVY"
      },
      "source": [
        "# Problem 1\n",
        "When two fair six-sided dice are rolled, there are $36$ different outcomes, because $36 = 6\\times6$. \n",
        "\n",
        "| Die 1/2\t| 1 \t| 2 \t| 3 \t| 4  \t| 5  \t| 6  \t|\n",
        "|-------\t|---\t|---\t|---\t|----\t|----\t|----\t|\n",
        "| 1     \t| 2 \t| 3 \t| 4 \t| 5  \t| 6  \t| 7  \t|\n",
        "| 2     \t| 3 \t| 4 \t| 5 \t| 6  \t| 7  \t| 8  \t|\n",
        "| 3     \t| 4 \t| 5 \t| 6 \t| 7  \t| 8  \t| 9  \t|\n",
        "| 4     \t| 5 \t| 6 \t| 7 \t| 8  \t| 9  \t| 10 \t|\n",
        "| 5     \t| 6 \t| 7 \t| 8 \t| 9  \t| 10 \t| 11 \t|\n",
        "| 6     \t| 7 \t| 8 \t| 9 \t| 10 \t| 11 \t| 12 \t|\n",
        "\n",
        "\n",
        "Each outcome is equally likely. \n",
        "What is the most likely sum, and \n",
        "what is its probability?\n",
        "\n",
        "\n",
        " \n",
        "## Problem 1.1 \n",
        "Two fair dice are rolled. Determine in each subquestion, whether the two events given are independent or not.\n",
        "\n",
        "- $E_1$: first dice is 1. $F_1$: sum of two dice is 7. \n",
        "\n",
        "- $E_2$: first dice is 2. $F_2$: sum of two dice is 8."
      ]
    },
    {
      "cell_type": "code",
      "metadata": {
        "colab": {
          "base_uri": "https://localhost:8080/"
        },
        "id": "mJ10hzNsmHKx",
        "outputId": "01be3765-baca-456b-8dfb-0fd378ce59c1"
      },
      "source": [
        "x = 2\n",
        "print(x == 3)"
      ],
      "execution_count": 99,
      "outputs": [
        {
          "output_type": "stream",
          "text": [
            "False\n"
          ],
          "name": "stdout"
        }
      ]
    },
    {
      "cell_type": "code",
      "metadata": {
        "colab": {
          "base_uri": "https://localhost:8080/"
        },
        "id": "mzrOfoZpmgdR",
        "outputId": "fbbf6a28-9c82-498e-df00-93b1d36b0b1b"
      },
      "source": [
        "random.choice([1, 2, 3, 4, 5, 6])"
      ],
      "execution_count": 131,
      "outputs": [
        {
          "output_type": "execute_result",
          "data": {
            "text/plain": [
              "5"
            ]
          },
          "metadata": {
            "tags": []
          },
          "execution_count": 131
        }
      ]
    },
    {
      "cell_type": "markdown",
      "metadata": {
        "id": "UBoBrzxFKxne"
      },
      "source": [
        "## Problem 1.2\n",
        "\n",
        "What is on average the number of times that we have to roll two fair dice to get a sum of 7 (call it a success)?"
      ]
    },
    {
      "cell_type": "code",
      "metadata": {
        "colab": {
          "base_uri": "https://localhost:8080/"
        },
        "id": "FbmLt-l0KkwX",
        "outputId": "fbc59372-fac5-4be4-e81c-187498ffe48e"
      },
      "source": [
        "# let us roll 1m times and give it a try\n",
        "# counter will record how many times the sum is 7\n",
        "counter = 0\n",
        "for _ in range(1_000_000):\n",
        "  die1 = random.choice([1,2,3,4,5,6])\n",
        "  die2 = random.choice([1,2,3,4,5,6])\n",
        "  if die1 + die2 == 7:\n",
        "    counter = counter + 1\n",
        "\n",
        "print(6/36) # the likelihood of rolling a 7 sum\n",
        "print(counter/1_000_000)"
      ],
      "execution_count": 134,
      "outputs": [
        {
          "output_type": "stream",
          "text": [
            "0.16666666666666666\n",
            "0.166522\n"
          ],
          "name": "stdout"
        }
      ]
    },
    {
      "cell_type": "markdown",
      "metadata": {
        "id": "VOzK_1wwMxU5"
      },
      "source": [
        "# Problem 2: Game of Craps\n",
        "\n",
        "\n",
        "A game played with two dice. If the total is 7 or 11 (a \"natural\"), the thrower wins and retains the dice for another throw. If the total is 2, 3, or 12 (\"craps\"), the thrower loses but retains the dice. If the total is any other number (called the thrower's \"point\"), the thrower must continue throwing and roll the \"point\" value again before throwing a 7. If he succeeds, he wins and retains the dice, but if a 7 appears first, the player loses and passes the dice.\n",
        "\n",
        "Reference: https://mathworld.wolfram.com/Craps.html"
      ]
    },
    {
      "cell_type": "markdown",
      "metadata": {
        "id": "LaUu9TXjNzpW"
      },
      "source": [
        "The probability of winning directly is, as we calculated, $8/36$, and the probability of losing directly is $(1+2+1)/36=4/36$.\n",
        "\n",
        "For the remaining cases, we need to sum over all remaining rolls. Let $p$ be the probability of rolling our initial roll, and $q=6/36=1/6$ the probability of rolling a $7$. Then the probability of rolling your initial roll before rolling a $7$ is \n",
        "$$p/(p+q),$$\n",
        "(Why?) and the probability of rolling a $7$ before rolling your initial roll is \n",
        "$$q/(p+q).$$\n",
        "Thus, taking into account the probability of initially rolling that roll, each roll that doesn't win or lose directly yields a contribution $p^2/(p+q)$ to your winning probability.\n",
        "\n",
        "For $p=5/36$, that's\n",
        "$$\n",
        "\\frac{\\left(\\frac5{36}\\right)^2}{\\frac{5+6}{36}}=\\frac{25}{11\\cdot36}\\;,\n",
        "$$\n",
        "\n",
        "and likewise $16/(10\\cdot36)$ and $9/(9\\cdot36)$ for $p=4/36$ and $p=3/36$, respectively. \n",
        "\n",
        "Each of those cases occurs twice (once above $7$ and once below), so your overall winning probability is\n",
        "\n",
        "$$\n",
        "\\frac8{36}+\\frac2{36}\\left(\\frac{25}{11}+\\frac{16}{10}+\\frac99\\right)=\\frac{244}{495} = \\frac12-\\frac7{990}\\approx\\frac12-0.007\\;.\n",
        "$$"
      ]
    },
    {
      "cell_type": "code",
      "metadata": {
        "colab": {
          "base_uri": "https://localhost:8080/"
        },
        "id": "u8YhkZ0bqmUQ",
        "outputId": "1b0953c3-5c60-4dd4-b57b-6f3a0d068dd4"
      },
      "source": [
        "2 in [2,3,4]"
      ],
      "execution_count": 136,
      "outputs": [
        {
          "output_type": "execute_result",
          "data": {
            "text/plain": [
              "True"
            ]
          },
          "metadata": {
            "tags": []
          },
          "execution_count": 136
        }
      ]
    },
    {
      "cell_type": "code",
      "metadata": {
        "colab": {
          "base_uri": "https://localhost:8080/"
        },
        "id": "nO5jpCliqq3q",
        "outputId": "dbefb79a-3196-4b8a-ab43-859798a1a17f"
      },
      "source": [
        "8 in [2,3,4]"
      ],
      "execution_count": 137,
      "outputs": [
        {
          "output_type": "execute_result",
          "data": {
            "text/plain": [
              "False"
            ]
          },
          "metadata": {
            "tags": []
          },
          "execution_count": 137
        }
      ]
    },
    {
      "cell_type": "code",
      "metadata": {
        "colab": {
          "base_uri": "https://localhost:8080/"
        },
        "id": "xi2ijJpmqt6a",
        "outputId": "c57dc4f0-9e19-4e08-c101-4d1533ec493c"
      },
      "source": [
        "'apple' in ['apple', 'pear', 'orange']"
      ],
      "execution_count": 139,
      "outputs": [
        {
          "output_type": "execute_result",
          "data": {
            "text/plain": [
              "True"
            ]
          },
          "metadata": {
            "tags": []
          },
          "execution_count": 139
        }
      ]
    },
    {
      "cell_type": "code",
      "metadata": {
        "colab": {
          "base_uri": "https://localhost:8080/"
        },
        "id": "yqzE7RwYqw7F",
        "outputId": "20881a71-b966-4f55-cf53-2b621bc44049"
      },
      "source": [
        "'grape' in ['apple', 'pear', 'orange']"
      ],
      "execution_count": 140,
      "outputs": [
        {
          "output_type": "execute_result",
          "data": {
            "text/plain": [
              "False"
            ]
          },
          "metadata": {
            "tags": []
          },
          "execution_count": 140
        }
      ]
    },
    {
      "cell_type": "code",
      "metadata": {
        "id": "6uHmOj8Ps6kT"
      },
      "source": [
        "def rolling():\n",
        "  die1 = random.choice([1,2,3,4,5,6])\n",
        "  die2 = random.choice([1,2,3,4,5,6])\n",
        "  return die1+die2 "
      ],
      "execution_count": 142,
      "outputs": []
    },
    {
      "cell_type": "code",
      "metadata": {
        "id": "zxKXQXSFMxJC"
      },
      "source": [
        "# long term simulation\n",
        "win_counter = 0\n",
        "num_round = 100\n",
        "\n",
        "points = [4, 5, 6, 8, 9, 10]\n",
        "\n",
        "for _ in range(10000):\n",
        "  sum_of_dice = rolling()\n",
        "  if (sum_of_dice == 7) or (sum_of_dice == 11): \n",
        "    win_counter = win_counter+1\n",
        "    continue\n",
        "  elif sum_of_dice in [2,3,12]:\n",
        "    continue\n",
        "  else: \n",
        "    prev_roll = sum_of_dice\n",
        "    for _ in range(num_round):\n",
        "      whether_win_here = 0\n",
        "      sum_of_dice = rolling()\n",
        "      if sum_of_dice == 7:\n",
        "        whether_win_here = 0\n",
        "        break\n",
        "      elif sum_of_dice == prev_roll:\n",
        "        whether_win_here = 1\n",
        "        break\n",
        "      else:\n",
        "        continue\n",
        "\n",
        "      if whether_win_here == 1 or whether_win_here == 0:\n",
        "        break\n",
        "    win_counter += whether_win_here"
      ],
      "execution_count": 173,
      "outputs": []
    },
    {
      "cell_type": "code",
      "metadata": {
        "colab": {
          "base_uri": "https://localhost:8080/"
        },
        "id": "IROGHB_MtsWQ",
        "outputId": "3fda31cf-940b-4535-8305-fbdfd0cd983e"
      },
      "source": [
        "print(win_counter/10000) # should be < 0.5"
      ],
      "execution_count": 175,
      "outputs": [
        {
          "output_type": "stream",
          "text": [
            "0.4905\n"
          ],
          "name": "stdout"
        }
      ]
    },
    {
      "cell_type": "code",
      "metadata": {
        "colab": {
          "base_uri": "https://localhost:8080/"
        },
        "id": "VyI2Ua8YsMEc",
        "outputId": "6524d6ba-88b2-4bb2-8de9-7d418516c668"
      },
      "source": [
        "x = 0\n",
        "while x < 10:\n",
        "  x = x+1 \n",
        "  print(x)"
      ],
      "execution_count": 141,
      "outputs": [
        {
          "output_type": "stream",
          "text": [
            "1\n",
            "2\n",
            "3\n",
            "4\n",
            "5\n",
            "6\n",
            "7\n",
            "8\n",
            "9\n",
            "10\n"
          ],
          "name": "stdout"
        }
      ]
    },
    {
      "cell_type": "markdown",
      "metadata": {
        "id": "kT6EhsSqM51t"
      },
      "source": [
        "# Problem 3: PowerBall \n",
        "\n",
        "PB numbers are drawn from two sets of numbers. Five numbers are drawn \n",
        "from one set of $69$ numbered white balls and one Powerball number is drawn from a \n",
        "second set of $26$ numbered red balls. If a ticket is randomly bought, what is the \n",
        "chance that it matches all five numbers plus the Powerball?"
      ]
    },
    {
      "cell_type": "code",
      "metadata": {
        "id": "nbeusj2BNWDC"
      },
      "source": [
        "# let us run some simulation"
      ],
      "execution_count": 30,
      "outputs": []
    },
    {
      "cell_type": "code",
      "metadata": {
        "id": "eMwqxX0JNXVq"
      },
      "source": [
        ""
      ],
      "execution_count": null,
      "outputs": []
    }
  ]
}